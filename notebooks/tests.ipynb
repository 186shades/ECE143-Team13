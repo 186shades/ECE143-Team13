{
 "cells": [
  {
   "cell_type": "code",
   "execution_count": 1,
   "id": "0b0aab5e",
   "metadata": {},
   "outputs": [],
   "source": [
    "#####Supply Check#####"
   ]
  },
  {
   "cell_type": "code",
   "execution_count": 2,
   "id": "0d92e0f1",
   "metadata": {},
   "outputs": [
    {
     "name": "stdout",
     "output_type": "stream",
     "text": [
      "Overwriting test_1_supply.py\n"
     ]
    }
   ],
   "source": [
    "%%file test_1_supply.py\n",
    "\n",
    "#Supply Check#\n",
    "import pytest\n",
    "import pickle\n",
    "\n",
    "with open('supplyVars.pkl', 'rb') as f:\n",
    "    stateName, stateName_ref, allGhiHeatmap, stateGhiHeatmap, oneCoordGhi, stateGHIInOneYear, stateMonthHourHeatmap, stateVariance, stateGHIByMonth, inputCoord, nearestCoord = pickle.load(f)\n",
    "    \n",
    "def test_stateNameCheck():\n",
    "    assert stateName == stateName_ref\n",
    "\n",
    "def test_coordinateCheck():\n",
    "    assert abs(inputCoord[0] - nearestCoord[0]) <= 1\n",
    "    assert abs(inputCoord[1] - nearestCoord[1]) <= 1\n",
    "    \n",
    "def test_plotsCheck():\n",
    "    assert allGhiHeatmap == 1\n",
    "    assert stateGhiHeatmap == 1\n",
    "    assert oneCoordGhi == 1\n",
    "    assert stateGHIInOneYear == 1\n",
    "    assert stateMonthHourHeatmap == 1\n",
    "    assert stateVariance == 1\n",
    "    assert stateGHIByMonth == 1"
   ]
  },
  {
   "cell_type": "code",
   "execution_count": 3,
   "id": "ae6dd1fc",
   "metadata": {},
   "outputs": [],
   "source": [
    "#####Demand Check#####"
   ]
  },
  {
   "cell_type": "code",
   "execution_count": 4,
   "id": "ce65bbef",
   "metadata": {},
   "outputs": [
    {
     "name": "stdout",
     "output_type": "stream",
     "text": [
      "Overwriting test_2_demand.py\n"
     ]
    }
   ],
   "source": [
    "%%file test_2_demand.py\n",
    "\n",
    "#Demand Check#\n",
    "import pytest\n",
    "import pickle\n",
    "\n",
    "with open('demandVars.pkl', 'rb') as f:\n",
    "    zoneCheck_ref, zoneCheck, yearCheck_ref, yearCheck, demandTemporal = pickle.load(f)\n",
    "    \n",
    "def test_zoneCheck():\n",
    "    assert zoneCheck_ref == zoneCheck\n",
    "    \n",
    "def test_yearCheck():\n",
    "    assert yearCheck_ref == yearCheck\n",
    "\n",
    "def test_plotsCheck():\n",
    "    assert demandTemporal == 1"
   ]
  },
  {
   "cell_type": "code",
   "execution_count": 5,
   "id": "8f1309d3",
   "metadata": {},
   "outputs": [],
   "source": [
    "#####Analysis Check#####"
   ]
  },
  {
   "cell_type": "code",
   "execution_count": 6,
   "id": "836260cd",
   "metadata": {},
   "outputs": [
    {
     "name": "stdout",
     "output_type": "stream",
     "text": [
      "Overwriting test_3_analysis.py\n"
     ]
    }
   ],
   "source": [
    "%%file test_3_analysis.py\n",
    "\n",
    "#Analysis Check#\n",
    "import pytest\n",
    "import pickle\n",
    "\n",
    "with open('analysisVars.pkl', 'rb') as f:\n",
    "    analysisYear_ref, analysisYear, hours24_1, hours24_2, hours24_3, used_curtailed, grid, storageCapacity = pickle.load(f)\n",
    "    \n",
    "def test_analysisYearCheck():\n",
    "    assert analysisYear_ref == analysisYear\n",
    "\n",
    "def test_plotsCheck():\n",
    "    assert hours24_1 == 1\n",
    "    assert hours24_2 == 1\n",
    "    assert hours24_3 == 1\n",
    "    assert used_curtailed == 1\n",
    "    assert grid == 1\n",
    "    assert storageCapacity == 1"
   ]
  },
  {
   "cell_type": "code",
   "execution_count": 8,
   "id": "35de42cf",
   "metadata": {},
   "outputs": [
    {
     "name": "stdout",
     "output_type": "stream",
     "text": [
      "\u001b[1m============================= test session starts ==============================\u001b[0m\n",
      "platform linux -- Python 3.9.5, pytest-7.4.2, pluggy-1.3.0 -- /opt/conda/bin/python3\n",
      "cachedir: .pytest_cache\n",
      "rootdir: /home/arbera/private/ECE143\n",
      "configfile: pytest.ini\n",
      "plugins: cov-4.1.0, anyio-3.2.1\n",
      "collected 8 items                                                              \u001b[0m\u001b[1m\n",
      "\n",
      "test_1_supply.py::test_stateNameCheck \u001b[32mPASSED\u001b[0m\u001b[32m                             [ 12%]\u001b[0m\n",
      "test_1_supply.py::test_coordinateCheck \u001b[32mPASSED\u001b[0m\u001b[32m                            [ 25%]\u001b[0m\n",
      "test_1_supply.py::test_plotsCheck \u001b[32mPASSED\u001b[0m\u001b[32m                                 [ 37%]\u001b[0m\n",
      "test_2_demand.py::test_zoneCheck \u001b[32mPASSED\u001b[0m\u001b[32m                                  [ 50%]\u001b[0m\n",
      "test_2_demand.py::test_yearCheck \u001b[32mPASSED\u001b[0m\u001b[32m                                  [ 62%]\u001b[0m\n",
      "test_2_demand.py::test_plotsCheck \u001b[32mPASSED\u001b[0m\u001b[32m                                 [ 75%]\u001b[0m\n",
      "test_3_analysis.py::test_analysisYearCheck \u001b[32mPASSED\u001b[0m\u001b[32m                        [ 87%]\u001b[0m\n",
      "test_3_analysis.py::test_plotsCheck \u001b[32mPASSED\u001b[0m\u001b[32m                               [100%]\u001b[0m\n",
      "\n",
      "----------- coverage: platform linux, python 3.9.5-final-0 -----------\n",
      "Coverage HTML written to dir htmlcov\n",
      "\n",
      "\n",
      "\u001b[32m============================== \u001b[32m\u001b[1m8 passed\u001b[0m\u001b[32m in 0.89s\u001b[0m\u001b[32m ===============================\u001b[0m\n"
     ]
    }
   ],
   "source": [
    "!python3 -m pytest --cov-report html --cov=. -vv"
   ]
  },
  {
   "cell_type": "code",
   "execution_count": null,
   "id": "09b27d22",
   "metadata": {},
   "outputs": [],
   "source": []
  }
 ],
 "metadata": {
  "kernelspec": {
   "display_name": "Python 3 (ipykernel)",
   "language": "python",
   "name": "python3"
  },
  "language_info": {
   "codemirror_mode": {
    "name": "ipython",
    "version": 3
   },
   "file_extension": ".py",
   "mimetype": "text/x-python",
   "name": "python",
   "nbconvert_exporter": "python",
   "pygments_lexer": "ipython3",
   "version": "3.9.5"
  }
 },
 "nbformat": 4,
 "nbformat_minor": 5
}
