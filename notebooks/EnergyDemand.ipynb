{
 "cells": [
  {
   "cell_type": "markdown",
   "metadata": {},
   "source": [
    "# EnergyAnalysis Class\n",
    "Calculate the solar supply, demand, storage left, and storage demand with given data of area (default as California)\n",
    "..."
   ]
  },
  {
   "cell_type": "markdown",
   "metadata": {},
   "source": [
    "## Import packages"
   ]
  },
  {
   "cell_type": "code",
   "execution_count": 24,
   "metadata": {},
   "outputs": [],
   "source": [
    "import pandas as pd\n",
    "import datetime\n",
    "import matplotlib.pyplot as plt"
   ]
  },
  {
   "cell_type": "markdown",
   "metadata": {},
   "source": [
    "## Class implementation"
   ]
  },
  {
   "cell_type": "code",
   "execution_count": 21,
   "metadata": {},
   "outputs": [],
   "source": [
    "class EnergyAnalysis:\n",
    "    '''\n",
    "    Write sth...\n",
    "    '''\n",
    "    def __init__(self, capacity, storage, solarDataFile: str='../raw_data/CAISOdata.csv', energyDataFile: str='../raw_data/CAISOactualLoad.csv') -> None:\n",
    "        assert isinstance(capacity, float) or isinstance(capacity, int)\n",
    "        assert isinstance(storage, float) or isinstance(storage, int)\n",
    "        assert isinstance(solarDataFile, str)\n",
    "        assert isinstance(energyDataFile, str)\n",
    "\n",
    "        self.solarData = pd.read_csv(solarDataFile)\n",
    "        self.energyData = pd.read_csv(energyDataFile)\n",
    "        self.capacity = capacity\n",
    "        self.storage = storage\n",
    "        self.__energyDemand()\n",
    "\n",
    "    def __energyDemand(self) -> pd.DataFrame:\n",
    "        '''\n",
    "        Calculate the supply, demand, storageLeft, storageDemand with given data\n",
    "\n",
    "        Returns\n",
    "        -------\n",
    "        pandas.DataFrame\n",
    "            | date | hour | supply | demand | storageLeft | storageDemand |\n",
    "            |------|------|--------|--------|-------------|---------------|\n",
    "        \n",
    "            date: str\n",
    "                %m-%d-%Y\n",
    "                04/12/2018\n",
    "            hour: int\n",
    "            supply: float\n",
    "            demand: float\n",
    "            storageLeft: float\n",
    "            storageDemand: float\n",
    "        '''\n",
    "        outputs = pd.DataFrame()\n",
    "        \n",
    "        self.__energyDF = outputs\n",
    "\n",
    "    def plotAnalysis(self, startTime: datetime=None, endTime: datetime=None, unit: str='hour') -> None:\n",
    "        '''\n",
    "        Plot the supply, demand, storage left, and storage demand for given period and unit\n",
    "\n",
    "        Parameter\n",
    "        ---------\n",
    "        startTime: str\n",
    "            %m-%d-%Y %H:%M\n",
    "            ex: 04/12/2018 00:00\n",
    "\n",
    "        endTime: str\n",
    "            %m-%d-%Y %H:%M\n",
    "            ex: 04/12/2018 00:00\n",
    "\n",
    "        unit: str\n",
    "            The unit can be 'hour', 'day', or 'year'\n",
    "        '''\n",
    "        assert isinstance(startTime, str)\n",
    "        assert isinstance(endTime, str)\n",
    "        assert unit == 'hour' or unit == 'day' or unit == 'year'\n",
    "\n",
    "\n",
    "\n",
    "\n",
    "        \n",
    "\n",
    "    def getEnergeDF(self) -> pd.DataFrame:\n",
    "        return self._energyDF\n",
    "    \n",
    "    def getEnergySupply(self) -> pd.DataFrame:\n",
    "        return self.__energyDF['supply']\n",
    "    \n",
    "    def getEnergyDemand(self) -> pd.DataFrame:\n",
    "        return self.__energyDF['demand']\n",
    "    \n",
    "    def getStorageLeft(self) -> pd.DataFrame:\n",
    "        return self.__energyDF['storageLeft']\n",
    "    \n",
    "    def getStorageDemand(self) -> pd.DataFrame:\n",
    "        return self.__energyDF['storageDemand']\n",
    "\n",
    "\n"
   ]
  },
  {
   "cell_type": "markdown",
   "metadata": {},
   "source": [
    "## Test"
   ]
  },
  {
   "cell_type": "code",
   "execution_count": 23,
   "metadata": {},
   "outputs": [
    {
     "data": {
      "text/html": [
       "<div>\n",
       "<style scoped>\n",
       "    .dataframe tbody tr th:only-of-type {\n",
       "        vertical-align: middle;\n",
       "    }\n",
       "\n",
       "    .dataframe tbody tr th {\n",
       "        vertical-align: top;\n",
       "    }\n",
       "\n",
       "    .dataframe thead th {\n",
       "        text-align: right;\n",
       "    }\n",
       "</style>\n",
       "<table border=\"1\" class=\"dataframe\">\n",
       "  <thead>\n",
       "    <tr style=\"text-align: right;\">\n",
       "      <th></th>\n",
       "    </tr>\n",
       "  </thead>\n",
       "  <tbody>\n",
       "  </tbody>\n",
       "</table>\n",
       "</div>"
      ],
      "text/plain": [
       "Empty DataFrame\n",
       "Columns: []\n",
       "Index: []"
      ]
     },
     "execution_count": 23,
     "metadata": {},
     "output_type": "execute_result"
    }
   ],
   "source": [
    "test = EnergyAnalysis(10, 12)"
   ]
  }
 ],
 "metadata": {
  "kernelspec": {
   "display_name": "Python 3",
   "language": "python",
   "name": "python3"
  },
  "language_info": {
   "codemirror_mode": {
    "name": "ipython",
    "version": 3
   },
   "file_extension": ".py",
   "mimetype": "text/x-python",
   "name": "python",
   "nbconvert_exporter": "python",
   "pygments_lexer": "ipython3",
   "version": "3.9.13"
  },
  "orig_nbformat": 4
 },
 "nbformat": 4,
 "nbformat_minor": 2
}
