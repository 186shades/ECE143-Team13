{
 "cells": [
  {
   "cell_type": "markdown",
   "metadata": {},
   "source": [
    "# EnergyAnalysis Class\n",
    "Calculate the solar supply, demand, storage left, and storage demand with given data of area (default as California)\n",
    "..."
   ]
  },
  {
   "cell_type": "markdown",
   "metadata": {},
   "source": [
    "## Import packages"
   ]
  },
  {
   "cell_type": "code",
   "execution_count": 1,
   "metadata": {},
   "outputs": [],
   "source": [
    "import pandas as pd\n",
    "from datetime import datetime\n",
    "import matplotlib.pyplot as plt\n",
    "import h5pyd"
   ]
  },
  {
   "cell_type": "markdown",
   "metadata": {},
   "source": [
    "## Class implementation"
   ]
  },
  {
   "cell_type": "markdown",
   "metadata": {},
   "source": [
    "### Energy Supply Analysis"
   ]
  },
  {
   "cell_type": "code",
   "execution_count": 2,
   "metadata": {},
   "outputs": [],
   "source": [
    "class EnergySupplyAnalysis:\n",
    "    '''\n",
    "    The class for energy supply analysis for given capacity and GHI data\n",
    "\n",
    "    Parameter\n",
    "    ---------\n",
    "    capacity: int\n",
    "        Utility-scale solar power capacity\n",
    "        unit: Mega Watts\n",
    "    \n",
    "    solarDataFile: str\n",
    "        Solar data file path\n",
    "    '''\n",
    "    def __init__(self, f: h5pyd._hl.files.File, capacity=17500) -> None:\n",
    "        assert isinstance(capacity, float) or isinstance(capacity, int)\n",
    "        assert isinstance(f, h5pyd._hl.files.File)\n",
    "        \n",
    "        self.capacity = capacity\n",
    "        dset = f['ghi']\n",
    "        factor = f['ghi'].attrs['psm_scale_factor']\n",
    "        self.__solarData = pd.DataFrame()\n",
    "        self.__solarData['Date'] = pd.to_datetime(f['time_index'][...].astype(str))\n",
    "        self.__solarData['GHI'] = dset / factor\n",
    "        self.__solarData['Supply'] = self.__solarData['ghi'] * capacity / 1000.\n",
    "    \n",
    "    def getEnergySupply(self) -> pd.DataFrame:\n",
    "        return self.__solarData"
   ]
  },
  {
   "cell_type": "markdown",
   "metadata": {},
   "source": [
    "### Energy Demand Analysis"
   ]
  },
  {
   "cell_type": "code",
   "execution_count": 9,
   "metadata": {},
   "outputs": [],
   "source": [
    "class EnergyDemandAnalysis:\n",
    "    '''\n",
    "    The class for energy demand analysis for given electrical data\n",
    "\n",
    "    Parameter\n",
    "    ---------\n",
    "    energyDataFile: str\n",
    "        Electrical demand data file path\n",
    "    '''\n",
    "    def __init__(self, energyDataFile: str='../raw_data/CAISOactualLoad.csv') -> None:\n",
    "        assert isinstance(energyDataFile, str)\n",
    "\n",
    "        self.demandData = pd.read_csv(energyDataFile)\n",
    "        self.__energyDemand()\n",
    "\n",
    "    def __energyDemand(self) -> pd.DataFrame:\n",
    "        '''\n",
    "        Calculate the demand with electrical data\n",
    "\n",
    "        Returns\n",
    "        -------\n",
    "        pandas.DataFrame\n",
    "            | Date | Demand |\n",
    "            |------|--------|\n",
    "        \n",
    "            Date: datetime\n",
    "            Demand: float\n",
    "        '''\n",
    "\n",
    "        data = self.demandData[self.demandData['zone'] == 'CA ISO']\n",
    "        data['date'] = pd.to_datetime(data['Date'])\n",
    "        self.__demandDF = data[['date', 'load']]\n",
    "        self.__demandDF = self.__demandDF.rename(columns={\"date\": \"Date\", \"load\": \"Demand\"})\n",
    "    \n",
    "    def getEnergyDemand(self) -> pd.DataFrame:\n",
    "        return self.__demandDF"
   ]
  },
  {
   "cell_type": "code",
   "execution_count": 90,
   "metadata": {},
   "outputs": [],
   "source": [
    "class testAnalysis:\n",
    "    '''\n",
    "    Write sth...\n",
    "    '''\n",
    "    def __init__(self, supply_df, demand_df) -> None:\n",
    "        assert isinstance(supply_df, pd.DataFrame)\n",
    "        assert isinstance(demand_df, pd.DataFrame)\n",
    "\n",
    "        self.supply_df = supply_df\n",
    "        self.demand_df = demand_df\n",
    "        self.__storageAnalysis()\n",
    "\n",
    "    def __storageAnalysis(self) -> pd.DataFrame:\n",
    "        '''\n",
    "        Calculate the supply, demand, storageLeft, storageDemand with given data\n",
    "\n",
    "        Returns\n",
    "        -------\n",
    "        pandas.DataFrame\n",
    "            | date | hour | supply | demand | storageLeft | storageDemand |\n",
    "            |------|------|--------|--------|-------------|---------------|\n",
    "        \n",
    "            date: str\n",
    "                %m/%d/%Y\n",
    "                04/12/2018\n",
    "            hour: int\n",
    "            supply: float\n",
    "            demand: float\n",
    "            storageLeft: float\n",
    "            storageDemand: float\n",
    "        '''\n",
    "        self.supply_df = self.supply_df.set_index(['Year', 'Month', 'Day', 'Hour'])\n",
    "        self.demand_df = self.demand_df.set_index(['Year', 'Month', 'Day', 'Hour'])\n",
    "        print(self.demand_df)\n",
    "        self.__energyDF = pd.concat([self.supply_df, self.demand_df], axis=1, join='inner')\n",
    "        # print(self.__energyDF)\n",
    "        # self.__energyDF = outputs\n",
    "    \n",
    "    def getStorageDemand(self) -> pd.DataFrame:\n",
    "        return self.__energyDF['storageDemand']\n",
    "\n",
    "\n"
   ]
  },
  {
   "cell_type": "code",
   "execution_count": null,
   "metadata": {},
   "outputs": [],
   "source": [
    "#Energy storage analysis:\n",
    "\n",
    "class StorageAnalysis:\n",
    "    \"\"\"\n",
    "        This class takes in a pandas dataframe in the form of \n",
    "            | date | hour | supply |\n",
    "            |------|------|--------|\n",
    "            and\n",
    "            | date | hour | demand |\n",
    "            |------|------|--------|\n",
    "\n",
    "            and creates a dataframe in the form of:\n",
    "            \n",
    "            | date | hour | storage demand | storage supplied | storageLeft |\n",
    "            |------|------|----------------|------------------|-------------|\n",
    "\n",
    "            where storage demand is the need for power that is not met by solar capacity,\n",
    "            storage supplied is the amount of energy supplied that hour, which should equal demand unless storageLeft goes to zero.\n",
    "            storageLeft is a the amount of energy left in the storage devices.\n",
    "            \n",
    "    \"\"\"\n",
    "    def __init__(self, the_supply: pd.DataFrame, the_demand: pd.DataFrame, the_storageMWh: int):\n",
    "        self.supply = the_supply\n",
    "        self\n"
   ]
  },
  {
   "cell_type": "markdown",
   "metadata": {},
   "source": [
    "## Test"
   ]
  }
 ],
 "metadata": {
  "kernelspec": {
   "display_name": "Python 3",
   "language": "python",
   "name": "python3"
  },
  "language_info": {
   "codemirror_mode": {
    "name": "ipython",
    "version": 3
   },
   "file_extension": ".py",
   "mimetype": "text/x-python",
   "name": "python",
   "nbconvert_exporter": "python",
   "pygments_lexer": "ipython3",
   "version": "3.9.13"
  },
  "orig_nbformat": 4
 },
 "nbformat": 4,
 "nbformat_minor": 2
}
