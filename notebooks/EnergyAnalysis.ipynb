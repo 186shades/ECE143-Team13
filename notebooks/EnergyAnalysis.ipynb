{
 "cells": [
  {
   "cell_type": "markdown",
   "metadata": {},
   "source": [
    "# EnergyAnalysis Class\n",
    "Calculate the solar supply, demand, storage left, and storage demand with given data of area (default as California)\n",
    "..."
   ]
  },
  {
   "cell_type": "markdown",
   "metadata": {},
   "source": [
    "## Import packages"
   ]
  },
  {
   "cell_type": "code",
   "execution_count": 2,
   "metadata": {},
   "outputs": [
    {
     "ename": "ModuleNotFoundError",
     "evalue": "No module named 'h5pyd'",
     "output_type": "error",
     "traceback": [
      "\u001b[1;31m---------------------------------------------------------------------------\u001b[0m",
      "\u001b[1;31mModuleNotFoundError\u001b[0m                       Traceback (most recent call last)",
      "\u001b[1;32mc:\\Users\\leona\\Documents\\code\\ECE 143\\ECE143-Team13\\notebooks\\EnergyAnalysis.ipynb Cell 3\u001b[0m line \u001b[0;36m4\n\u001b[0;32m      <a href='vscode-notebook-cell:/c%3A/Users/leona/Documents/code/ECE%20143/ECE143-Team13/notebooks/EnergyAnalysis.ipynb#W2sZmlsZQ%3D%3D?line=1'>2</a>\u001b[0m \u001b[39mfrom\u001b[39;00m \u001b[39mdatetime\u001b[39;00m \u001b[39mimport\u001b[39;00m datetime\n\u001b[0;32m      <a href='vscode-notebook-cell:/c%3A/Users/leona/Documents/code/ECE%20143/ECE143-Team13/notebooks/EnergyAnalysis.ipynb#W2sZmlsZQ%3D%3D?line=2'>3</a>\u001b[0m \u001b[39mimport\u001b[39;00m \u001b[39mmatplotlib\u001b[39;00m\u001b[39m.\u001b[39;00m\u001b[39mpyplot\u001b[39;00m \u001b[39mas\u001b[39;00m \u001b[39mplt\u001b[39;00m\n\u001b[1;32m----> <a href='vscode-notebook-cell:/c%3A/Users/leona/Documents/code/ECE%20143/ECE143-Team13/notebooks/EnergyAnalysis.ipynb#W2sZmlsZQ%3D%3D?line=3'>4</a>\u001b[0m \u001b[39mimport\u001b[39;00m \u001b[39mh5pyd\u001b[39;00m\n",
      "\u001b[1;31mModuleNotFoundError\u001b[0m: No module named 'h5pyd'"
     ]
    }
   ],
   "source": [
    "import pandas as pd\n",
    "from datetime import datetime\n",
    "import matplotlib.pyplot as plt\n",
    "import h5pyd"
   ]
  },
  {
   "cell_type": "markdown",
   "metadata": {},
   "source": [
    "## Class implementation"
   ]
  },
  {
   "cell_type": "markdown",
   "metadata": {},
   "source": [
    "### Energy Supply Analysis"
   ]
  },
  {
   "cell_type": "code",
   "execution_count": 3,
   "metadata": {},
   "outputs": [
    {
     "ename": "NameError",
     "evalue": "name 'h5pyd' is not defined",
     "output_type": "error",
     "traceback": [
      "\u001b[1;31m---------------------------------------------------------------------------\u001b[0m",
      "\u001b[1;31mNameError\u001b[0m                                 Traceback (most recent call last)",
      "\u001b[1;32mc:\\Users\\leona\\Documents\\code\\ECE 143\\ECE143-Team13\\notebooks\\EnergyAnalysis.ipynb Cell 6\u001b[0m line \u001b[0;36m1\n\u001b[1;32m----> <a href='vscode-notebook-cell:/c%3A/Users/leona/Documents/code/ECE%20143/ECE143-Team13/notebooks/EnergyAnalysis.ipynb#W5sZmlsZQ%3D%3D?line=0'>1</a>\u001b[0m \u001b[39mclass\u001b[39;00m \u001b[39mEnergySupplyAnalysis\u001b[39;00m:\n\u001b[0;32m      <a href='vscode-notebook-cell:/c%3A/Users/leona/Documents/code/ECE%20143/ECE143-Team13/notebooks/EnergyAnalysis.ipynb#W5sZmlsZQ%3D%3D?line=1'>2</a>\u001b[0m \u001b[39m    \u001b[39m\u001b[39m'''\u001b[39;00m\n\u001b[0;32m      <a href='vscode-notebook-cell:/c%3A/Users/leona/Documents/code/ECE%20143/ECE143-Team13/notebooks/EnergyAnalysis.ipynb#W5sZmlsZQ%3D%3D?line=2'>3</a>\u001b[0m \u001b[39m    The class for energy supply analysis for given capacity and GHI data\u001b[39;00m\n\u001b[0;32m      <a href='vscode-notebook-cell:/c%3A/Users/leona/Documents/code/ECE%20143/ECE143-Team13/notebooks/EnergyAnalysis.ipynb#W5sZmlsZQ%3D%3D?line=3'>4</a>\u001b[0m \n\u001b[1;32m   (...)\u001b[0m\n\u001b[0;32m     <a href='vscode-notebook-cell:/c%3A/Users/leona/Documents/code/ECE%20143/ECE143-Team13/notebooks/EnergyAnalysis.ipynb#W5sZmlsZQ%3D%3D?line=11'>12</a>\u001b[0m \u001b[39m        Solar data file path\u001b[39;00m\n\u001b[0;32m     <a href='vscode-notebook-cell:/c%3A/Users/leona/Documents/code/ECE%20143/ECE143-Team13/notebooks/EnergyAnalysis.ipynb#W5sZmlsZQ%3D%3D?line=12'>13</a>\u001b[0m \u001b[39m    '''\u001b[39;00m\n\u001b[0;32m     <a href='vscode-notebook-cell:/c%3A/Users/leona/Documents/code/ECE%20143/ECE143-Team13/notebooks/EnergyAnalysis.ipynb#W5sZmlsZQ%3D%3D?line=13'>14</a>\u001b[0m     \u001b[39mdef\u001b[39;00m \u001b[39m__init__\u001b[39m(\u001b[39mself\u001b[39m, f: h5pyd\u001b[39m.\u001b[39m_hl\u001b[39m.\u001b[39mfiles\u001b[39m.\u001b[39mFile, capacity\u001b[39m=\u001b[39m\u001b[39m17500\u001b[39m) \u001b[39m-\u001b[39m\u001b[39m>\u001b[39m \u001b[39mNone\u001b[39;00m:\n",
      "\u001b[1;32mc:\\Users\\leona\\Documents\\code\\ECE 143\\ECE143-Team13\\notebooks\\EnergyAnalysis.ipynb Cell 6\u001b[0m line \u001b[0;36m1\n\u001b[0;32m      <a href='vscode-notebook-cell:/c%3A/Users/leona/Documents/code/ECE%20143/ECE143-Team13/notebooks/EnergyAnalysis.ipynb#W5sZmlsZQ%3D%3D?line=0'>1</a>\u001b[0m \u001b[39mclass\u001b[39;00m \u001b[39mEnergySupplyAnalysis\u001b[39;00m:\n\u001b[0;32m      <a href='vscode-notebook-cell:/c%3A/Users/leona/Documents/code/ECE%20143/ECE143-Team13/notebooks/EnergyAnalysis.ipynb#W5sZmlsZQ%3D%3D?line=1'>2</a>\u001b[0m \u001b[39m    \u001b[39m\u001b[39m'''\u001b[39;00m\n\u001b[0;32m      <a href='vscode-notebook-cell:/c%3A/Users/leona/Documents/code/ECE%20143/ECE143-Team13/notebooks/EnergyAnalysis.ipynb#W5sZmlsZQ%3D%3D?line=2'>3</a>\u001b[0m \u001b[39m    The class for energy supply analysis for given capacity and GHI data\u001b[39;00m\n\u001b[0;32m      <a href='vscode-notebook-cell:/c%3A/Users/leona/Documents/code/ECE%20143/ECE143-Team13/notebooks/EnergyAnalysis.ipynb#W5sZmlsZQ%3D%3D?line=3'>4</a>\u001b[0m \n\u001b[1;32m   (...)\u001b[0m\n\u001b[0;32m     <a href='vscode-notebook-cell:/c%3A/Users/leona/Documents/code/ECE%20143/ECE143-Team13/notebooks/EnergyAnalysis.ipynb#W5sZmlsZQ%3D%3D?line=11'>12</a>\u001b[0m \u001b[39m        Solar data file path\u001b[39;00m\n\u001b[0;32m     <a href='vscode-notebook-cell:/c%3A/Users/leona/Documents/code/ECE%20143/ECE143-Team13/notebooks/EnergyAnalysis.ipynb#W5sZmlsZQ%3D%3D?line=12'>13</a>\u001b[0m \u001b[39m    '''\u001b[39;00m\n\u001b[1;32m---> <a href='vscode-notebook-cell:/c%3A/Users/leona/Documents/code/ECE%20143/ECE143-Team13/notebooks/EnergyAnalysis.ipynb#W5sZmlsZQ%3D%3D?line=13'>14</a>\u001b[0m     \u001b[39mdef\u001b[39;00m \u001b[39m__init__\u001b[39m(\u001b[39mself\u001b[39m, f: h5pyd\u001b[39m.\u001b[39m_hl\u001b[39m.\u001b[39mfiles\u001b[39m.\u001b[39mFile, capacity\u001b[39m=\u001b[39m\u001b[39m17500\u001b[39m) \u001b[39m-\u001b[39m\u001b[39m>\u001b[39m \u001b[39mNone\u001b[39;00m:\n\u001b[0;32m     <a href='vscode-notebook-cell:/c%3A/Users/leona/Documents/code/ECE%20143/ECE143-Team13/notebooks/EnergyAnalysis.ipynb#W5sZmlsZQ%3D%3D?line=14'>15</a>\u001b[0m         \u001b[39massert\u001b[39;00m \u001b[39misinstance\u001b[39m(capacity, \u001b[39mfloat\u001b[39m) \u001b[39mor\u001b[39;00m \u001b[39misinstance\u001b[39m(capacity, \u001b[39mint\u001b[39m)\n\u001b[0;32m     <a href='vscode-notebook-cell:/c%3A/Users/leona/Documents/code/ECE%20143/ECE143-Team13/notebooks/EnergyAnalysis.ipynb#W5sZmlsZQ%3D%3D?line=15'>16</a>\u001b[0m         \u001b[39massert\u001b[39;00m \u001b[39misinstance\u001b[39m(f, h5pyd\u001b[39m.\u001b[39m_hl\u001b[39m.\u001b[39mfiles\u001b[39m.\u001b[39mFile)\n",
      "\u001b[1;31mNameError\u001b[0m: name 'h5pyd' is not defined"
     ]
    }
   ],
   "source": [
    "class EnergySupplyAnalysis:\n",
    "    '''\n",
    "    The class for energy supply analysis for given capacity and GHI data\n",
    "\n",
    "    Parameter\n",
    "    ---------\n",
    "    capacity: int\n",
    "        Utility-scale solar power capacity\n",
    "        unit: Mega Watts\n",
    "    \n",
    "    solarDataFile: str\n",
    "        Solar data file path\n",
    "    '''\n",
    "    def __init__(self, f: h5pyd._hl.files.File, capacity=17500) -> None:\n",
    "        assert isinstance(capacity, float) or isinstance(capacity, int)\n",
    "        assert isinstance(f, h5pyd._hl.files.File)\n",
    "        \n",
    "        self.capacity = capacity\n",
    "        dset = f['ghi']\n",
    "        factor = f['ghi'].attrs['psm_scale_factor']\n",
    "        self.__solarData = pd.DataFrame()\n",
    "        self.__solarData['Date'] = pd.to_datetime(f['time_index'][...].astype(str))\n",
    "        self.__solarData['GHI'] = dset / factor\n",
    "        self.__solarData['Supply'] = self.__solarData['ghi'] * capacity / 1000.\n",
    "    \n",
    "    def getEnergySupply(self) -> pd.DataFrame:\n",
    "        return self.__solarData"
   ]
  },
  {
   "cell_type": "code",
   "execution_count": 4,
   "metadata": {},
   "outputs": [],
   "source": [
    "class EnergySupplyAnalysisCSV:\n",
    "    '''\n",
    "    The class for energy supply analysis for given capacity and GHI data\n",
    "\n",
    "    Parameter\n",
    "    ---------\n",
    "    capacity: int\n",
    "        Utility-scale solar power capacity\n",
    "        unit: Mega Watts\n",
    "    \n",
    "    solarDataFile: str\n",
    "        Solar data file path\n",
    "    '''\n",
    "    def __init__(self, capacity=17500, solarDataFile: str='../raw_data/midCalifornia_GHI.csv') -> None:\n",
    "        assert isinstance(capacity, float) or isinstance(capacity, int)\n",
    "        assert isinstance(solarDataFile, str)\n",
    "\n",
    "        self.solarData = pd.read_csv(solarDataFile)\n",
    "        self.capacity = capacity\n",
    "        self.__energySupply()\n",
    "\n",
    "    def __energySupply(self) -> pd.DataFrame:\n",
    "        '''\n",
    "        Calculate the supply with given solar and solar panel capacity data\n",
    "\n",
    "        Returns\n",
    "        -------\n",
    "        pandas.DataFrame\n",
    "            | Year | Month | Day | Hour | Minute | GHI | Supply |\n",
    "            |------|-------|-----|------|--------|-----|--------|\n",
    "        \n",
    "            Year: int\n",
    "            Month: int\n",
    "            Day: int\n",
    "            Hour: int\n",
    "            Minute: int\n",
    "            GHI: int\n",
    "            Supply: float\n",
    "        '''\n",
    "        self.__supplyDF = self.solarData\n",
    "        self.__supplyDF['Supply'] = self.__supplyDF['GHI'] * self.capacity / 1000\n",
    "    \n",
    "    def getEnergySupply(self) -> pd.DataFrame:\n",
    "        return self.__supplyDF"
   ]
  },
  {
   "cell_type": "markdown",
   "metadata": {},
   "source": [
    "### Energy Demand Analysis"
   ]
  },
  {
   "cell_type": "code",
   "execution_count": 5,
   "metadata": {},
   "outputs": [],
   "source": [
    "class EnergyDemandAnalysis:\n",
    "    '''\n",
    "    The class for energy demand analysis for given electrical data\n",
    "\n",
    "    Parameter\n",
    "    ---------\n",
    "    energyDataFile: str\n",
    "        Electrical demand data file path\n",
    "    '''\n",
    "    def __init__(self, energyDataFile: str='../raw_data/CAISOactualLoad.csv') -> None:\n",
    "        assert isinstance(energyDataFile, str)\n",
    "\n",
    "        self.demandData = pd.read_csv(energyDataFile)\n",
    "        self.__energyDemand()\n",
    "\n",
    "    def __energyDemand(self) -> pd.DataFrame:\n",
    "        '''\n",
    "        Calculate the demand with electrical data\n",
    "\n",
    "        Returns\n",
    "        -------\n",
    "        pandas.DataFrame\n",
    "            | Date | Demand |\n",
    "            |------|--------|\n",
    "        \n",
    "            Date: datetime\n",
    "            Demand: float\n",
    "        '''\n",
    "\n",
    "        data = self.demandData[self.demandData['zone'] == 'CA ISO']\n",
    "        data['date'] = pd.to_datetime(data['Date'])\n",
    "        self.__demandDF = data[['date', 'load']]\n",
    "        self.__demandDF = self.__demandDF.rename(columns={\"date\": \"Date\", \"load\": \"Demand\"})\n",
    "    \n",
    "    def getEnergyDemand(self) -> pd.DataFrame:\n",
    "        return self.__demandDF"
   ]
  },
  {
   "cell_type": "code",
   "execution_count": 30,
   "metadata": {},
   "outputs": [],
   "source": [
    "#Energy storage analysis:\n",
    "\n",
    "\n",
    "class StorageAnalysis:\n",
    "    \"\"\"\n",
    "        This class takes in a pandas dataframe in the form of \n",
    "            | date | hour | supply |\n",
    "            |------|------|--------|\n",
    "            and\n",
    "            | date | hour | demand |\n",
    "            |------|------|--------|\n",
    "\n",
    "            and creates a dataframe in the form of:\n",
    "            \n",
    "            | date | hour | storage demand | storage supplied | storage Left | Curtailed supply |\n",
    "            |------|------|----------------|------------------|--------------|------------------|\n",
    "\n",
    "            where storage demand is the need for power that is not met by solar capacity,\n",
    "            storage supplied is the amount of energy supplied that hour, which should equal demand unless storageLeft goes to zero.\n",
    "            storageLeft is a the amount of energy left in the storage devices.\n",
    "\n",
    "            Storage Demand: Supply - Demand. a positive number indicates the needed power beyond solar supply to meet demand\n",
    "                            a negative number represents excess supply that ideally would be sent to storage.\n",
    "            Storage Supplied: Actual power supplied by storage. Only differs from Storage Demand when the battery\n",
    "                            empties or gets full.\n",
    "            Storage Left: The current MWh stored in the grid\n",
    "            Curtailed supply: Excess generation that was not able to be stored in the battery. Always positive or zero.\n",
    "                                only positive when storage is full\n",
    "\n",
    "            \n",
    "    \"\"\"\n",
    "    def __init__(self, the_supply: pd.DataFrame, the_demand: pd.DataFrame, the_storageMWh: int):\n",
    "        \"\"\"\n",
    "        Takes in dataframes for supply and demand in the format:\n",
    "        | Year | Month | Day | Hour | Minute | ... | Supply | ... |\n",
    "        |------|-------|-----|------|--------|-----|--------|-----|\n",
    "        and \n",
    "        | Year | Month | Day | Hour | Minute | ... | Demand | ... |\n",
    "        |------|-------|-----|------|--------|-----|--------|-----|\n",
    "        both in MW and initilizes \n",
    "\n",
    "        self.storage_left: pd.Series[int]\n",
    "        self.storage_demand: pd.Series[int]\n",
    "        self.storage_supplied: pd.Series[int]\n",
    "        self.curtailed_supply: pd.Series[int]\n",
    "        \n",
    "\n",
    "        Args:\n",
    "            the_supply (pd.DataFrame): _description_\n",
    "            the_demand (pd.DataFrame): _description_\n",
    "            the_storageMWh (int): _description_\n",
    "        \"\"\"\n",
    "        self.supplyDF = the_supply\n",
    "        self.demandDF = the_demand\n",
    "        self.storage_max = the_storageMWh\n",
    "\n",
    "        self.supply: pd.Series[int] = self.supplyDF[\"Supply\"]\n",
    "        self.demand: pd.Series[int] = self.demandDF[\"Demand\"] \n",
    "        self.sized_demand: pd.Series[int]\n",
    "        self.storage_left: pd.Series[int]\n",
    "        self.storage_demand: pd.Series[int]\n",
    "        self.storage_supplied: pd.Series[int]\n",
    "        self.curtailed_supply: pd.Series[int]\n",
    "        self.total_supplied: pd.Series[int]\n",
    "\n",
    "        self.__set_storage_series()\n",
    "        \n",
    "\n",
    "    def __set_storage_series(self):\n",
    "        \"\"\"\n",
    "        Sets pd.Series data so complete dataframe can be returned\n",
    "        \"\"\"\n",
    "        #self.supply: pd.Series[float] \n",
    "        #print(the_supply)\n",
    "        #self.demand: pd.Series[float] \n",
    "        #print(the_demand)\n",
    "        #net_generation: pd.Series[float] = the_supply - the_demand \n",
    "        #print(net_generation)\n",
    "        sized_demand_list: list[int] = [self.demand.iat[0]]\n",
    "        storage_demand_list: list[int] = [self.demand.iat[0] - self.supply.iat[0]]\n",
    "        storage_supplied_list: list[int] = [min(self.storage_max, self.demand.iat[0] - self.supply.iat[0])]\n",
    "        storage_left_list: list[int] = [self.storage_max - storage_supplied_list[0]]\n",
    "        curtailed_supply_list: list[int] = [max(0, storage_supplied_list[0] - storage_demand_list[0])]\n",
    "        total_supplied_list: list[int] = [storage_supplied_list[0] + self.supply.iat[0]]\n",
    "\n",
    "        #Try doing this with something faster than for loop\n",
    "        for i in range(1,len(self.supply)):\n",
    "            net_storage_Demand: int = self.demand.iat[i] - self.supply.iat[i]\n",
    "\n",
    "            #Setting sized demand:\n",
    "            sized_demand_list.append(self.demand.iat[i])\n",
    "\n",
    "            #getting storage demand, negative implies oversupply:\n",
    "            storage_demand_list.append(net_storage_Demand)\n",
    "\n",
    "            #getting storage left\n",
    "            storage: int = storage_left_list[i-1] - net_storage_Demand\n",
    "            if storage < 0:\n",
    "                storage = 0\n",
    "            elif storage > self.storage_max:\n",
    "                storage = self.storage_max\n",
    "            storage_left_list.append(storage)\n",
    "\n",
    "            #getting storage supplied:\n",
    "            if net_storage_Demand > 0:\n",
    "                storage_supplied_list.append(min(storage_left_list[i-1], net_storage_Demand))\n",
    "            else:\n",
    "                storage_supplied_list.append(max(storage_left_list[i-1] - self.storage_max, net_storage_Demand))\n",
    "            \n",
    "            #Getting total supplied:\n",
    "            total_supplied_list.append(self.supply.iat[i] + storage_supplied_list[i])\n",
    "\n",
    "            #getting curtailed supply:\n",
    "            curtailed_supply_list.append(max(0, storage_supplied_list[i] - storage_demand_list[i]))\n",
    "            \n",
    "\n",
    "        self.sized_demand = pd.Series(sized_demand_list)\n",
    "        self.storage_left = pd.Series(storage_left_list)\n",
    "        self.storage_demand = pd.Series(storage_demand_list)\n",
    "        self.storage_supplied = pd.Series(storage_supplied_list)\n",
    "        self.curtailed_supply = pd.Series(curtailed_supply_list)\n",
    "        self.total_supplied = pd.Series(total_supplied_list)\n",
    "        \n",
    "    def get_storage_data(self):\n",
    "        \"\"\"\n",
    "        \n",
    "\n",
    "        Returns:\n",
    "            Dataframe: | date | hour | storage demand | storage supplied | storage Left | Curtailed supply |\n",
    "                       |------|------|----------------|------------------|--------------|------------------|\n",
    "\n",
    "            where storage demand is the need for power that is not met by solar capacity,\n",
    "            storage supplied is the amount of energy supplied that hour, which should equal demand unless storageLeft goes to zero.\n",
    "            storageLeft is a the amount of energy left in the storage devices.\n",
    "\n",
    "            Storage Demand: Supply - Demand. a positive number indicates the needed power beyond solar supply to meet demand\n",
    "                            a negative number represents excess supply that ideally would be sent to storage.\n",
    "            Storage Supplied: Actual power supplied by storage. Only differs from Storage Demand when the battery\n",
    "                            empties or gets full.\n",
    "            Storage Left: The current MWh stored in the grid\n",
    "            Curtailed supply: Excess generation that was not able to be stored in the battery. Always positive or zero.\n",
    "                                only positive when storage is full\n",
    "        \"\"\"\n",
    "        return_dict = {\"Total Demand\" : self.sized_demand,\n",
    "                       \"Solar Supply\" : self.supply,\n",
    "                       \"Storage Demand\" : self.storage_demand,\n",
    "                       \"Storage Supplied\" : self.storage_supplied,\n",
    "                       \"Storage Left\" : self.storage_left,\n",
    "                       \"Curtailed Supply\" : self.curtailed_supply,\n",
    "                       \"Total Supplied\" : self.total_supplied\n",
    "                       }\n",
    "        \n",
    "        return_dates = self.supplyDF[[\"Year\",\"Month\",\"Day\",\"Hour\",\"Minute\"]]\n",
    "        \n",
    "        return pd.concat([return_dates, pd.DataFrame(return_dict)], axis=1)\n",
    "        # print(self.storage_left)\n",
    "        # print(self.storage_demand)\n",
    "        # print(self.storage_supplied)\n",
    "        # print(self.curtailed_supply)\n",
    "    \n",
    "    \n",
    "\n",
    "#https://assessingsolar.org/notebooks/solar_power_modeling.html"
   ]
  },
  {
   "cell_type": "code",
   "execution_count": null,
   "metadata": {},
   "outputs": [],
   "source": []
  },
  {
   "cell_type": "markdown",
   "metadata": {},
   "source": [
    "## Test"
   ]
  },
  {
   "cell_type": "code",
   "execution_count": null,
   "metadata": {},
   "outputs": [],
   "source": [
    "f = h5pyd.File(\"/nrel/nsrdb/v3/nsrdb_2012.h5\", 'r')"
   ]
  },
  {
   "cell_type": "code",
   "execution_count": 17,
   "metadata": {},
   "outputs": [],
   "source": [
    "test = EnergySupplyAnalysisCSV()"
   ]
  },
  {
   "cell_type": "code",
   "execution_count": 27,
   "metadata": {},
   "outputs": [
    {
     "name": "stderr",
     "output_type": "stream",
     "text": [
      "C:\\Users\\leona\\AppData\\Local\\Temp\\ipykernel_32008\\1616221536.py:31: UserWarning: Could not infer format, so each element will be parsed individually, falling back to `dateutil`. To ensure parsing is consistent and as-expected, please specify a format.\n",
      "  data['date'] = pd.to_datetime(data['Date'])\n",
      "C:\\Users\\leona\\AppData\\Local\\Temp\\ipykernel_32008\\1616221536.py:31: SettingWithCopyWarning: \n",
      "A value is trying to be set on a copy of a slice from a DataFrame.\n",
      "Try using .loc[row_indexer,col_indexer] = value instead\n",
      "\n",
      "See the caveats in the documentation: https://pandas.pydata.org/pandas-docs/stable/user_guide/indexing.html#returning-a-view-versus-a-copy\n",
      "  data['date'] = pd.to_datetime(data['Date'])\n"
     ]
    },
    {
     "data": {
      "text/html": [
       "<div>\n",
       "<style scoped>\n",
       "    .dataframe tbody tr th:only-of-type {\n",
       "        vertical-align: middle;\n",
       "    }\n",
       "\n",
       "    .dataframe tbody tr th {\n",
       "        vertical-align: top;\n",
       "    }\n",
       "\n",
       "    .dataframe thead th {\n",
       "        text-align: right;\n",
       "    }\n",
       "</style>\n",
       "<table border=\"1\" class=\"dataframe\">\n",
       "  <thead>\n",
       "    <tr style=\"text-align: right;\">\n",
       "      <th></th>\n",
       "      <th>Date</th>\n",
       "      <th>Demand</th>\n",
       "    </tr>\n",
       "  </thead>\n",
       "  <tbody>\n",
       "    <tr>\n",
       "      <th>1</th>\n",
       "      <td>2018-01-01 00:00:00</td>\n",
       "      <td>21202.0</td>\n",
       "    </tr>\n",
       "    <tr>\n",
       "      <th>12</th>\n",
       "      <td>2018-01-01 01:00:00</td>\n",
       "      <td>20559.0</td>\n",
       "    </tr>\n",
       "    <tr>\n",
       "      <th>23</th>\n",
       "      <td>2018-01-01 02:00:00</td>\n",
       "      <td>20017.0</td>\n",
       "    </tr>\n",
       "    <tr>\n",
       "      <th>34</th>\n",
       "      <td>2018-01-01 03:00:00</td>\n",
       "      <td>19629.0</td>\n",
       "    </tr>\n",
       "    <tr>\n",
       "      <th>45</th>\n",
       "      <td>2018-01-01 04:00:00</td>\n",
       "      <td>19613.0</td>\n",
       "    </tr>\n",
       "    <tr>\n",
       "      <th>...</th>\n",
       "      <td>...</td>\n",
       "      <td>...</td>\n",
       "    </tr>\n",
       "    <tr>\n",
       "      <th>390213</th>\n",
       "      <td>2020-12-31 19:00:00</td>\n",
       "      <td>25789.0</td>\n",
       "    </tr>\n",
       "    <tr>\n",
       "      <th>390230</th>\n",
       "      <td>2020-12-31 20:00:00</td>\n",
       "      <td>24974.0</td>\n",
       "    </tr>\n",
       "    <tr>\n",
       "      <th>390247</th>\n",
       "      <td>2020-12-31 21:00:00</td>\n",
       "      <td>24128.0</td>\n",
       "    </tr>\n",
       "    <tr>\n",
       "      <th>390264</th>\n",
       "      <td>2020-12-31 22:00:00</td>\n",
       "      <td>23102.0</td>\n",
       "    </tr>\n",
       "    <tr>\n",
       "      <th>390281</th>\n",
       "      <td>2020-12-31 23:00:00</td>\n",
       "      <td>22175.0</td>\n",
       "    </tr>\n",
       "  </tbody>\n",
       "</table>\n",
       "<p>26285 rows × 2 columns</p>\n",
       "</div>"
      ],
      "text/plain": [
       "                      Date   Demand\n",
       "1      2018-01-01 00:00:00  21202.0\n",
       "12     2018-01-01 01:00:00  20559.0\n",
       "23     2018-01-01 02:00:00  20017.0\n",
       "34     2018-01-01 03:00:00  19629.0\n",
       "45     2018-01-01 04:00:00  19613.0\n",
       "...                    ...      ...\n",
       "390213 2020-12-31 19:00:00  25789.0\n",
       "390230 2020-12-31 20:00:00  24974.0\n",
       "390247 2020-12-31 21:00:00  24128.0\n",
       "390264 2020-12-31 22:00:00  23102.0\n",
       "390281 2020-12-31 23:00:00  22175.0\n",
       "\n",
       "[26285 rows x 2 columns]"
      ]
     },
     "execution_count": 27,
     "metadata": {},
     "output_type": "execute_result"
    }
   ],
   "source": [
    "test.getEnergySupply()\n",
    "test_demand = EnergyDemandAnalysis()\n",
    "test_demand.getEnergyDemand()"
   ]
  },
  {
   "cell_type": "code",
   "execution_count": 86,
   "metadata": {},
   "outputs": [
    {
     "name": "stderr",
     "output_type": "stream",
     "text": [
      "C:\\Users\\leona\\AppData\\Local\\Temp\\ipykernel_32008\\1616221536.py:31: UserWarning: Could not infer format, so each element will be parsed individually, falling back to `dateutil`. To ensure parsing is consistent and as-expected, please specify a format.\n",
      "  data['date'] = pd.to_datetime(data['Date'])\n",
      "C:\\Users\\leona\\AppData\\Local\\Temp\\ipykernel_32008\\1616221536.py:31: SettingWithCopyWarning: \n",
      "A value is trying to be set on a copy of a slice from a DataFrame.\n",
      "Try using .loc[row_indexer,col_indexer] = value instead\n",
      "\n",
      "See the caveats in the documentation: https://pandas.pydata.org/pandas-docs/stable/user_guide/indexing.html#returning-a-view-versus-a-copy\n",
      "  data['date'] = pd.to_datetime(data['Date'])\n"
     ]
    }
   ],
   "source": [
    "test_supply = EnergySupplyAnalysisCSV(100000)\n",
    "test_demand = EnergyDemandAnalysis()\n",
    "test_storage = StorageAnalysis(test_supply.getEnergySupply(), test_demand.getEnergyDemand(), 500000)\n",
    "#print(test_storage.demand)\n",
    "#print(test_storage.supply)\n",
    "#pd.set_option(\"display.max_rows\",100)\n",
    "results = test_storage.get_storage_data()\n",
    "    \n",
    "\n",
    "\n",
    "#https://assessingsolar.org/notebooks/solar_power_modeling.html"
   ]
  },
  {
   "cell_type": "code",
   "execution_count": 96,
   "metadata": {},
   "outputs": [
    {
     "data": {
      "text/plain": [
       "Text(0.5, 1.0, '2018 curtailed supply in California')"
      ]
     },
     "execution_count": 96,
     "metadata": {},
     "output_type": "execute_result"
    },
    {
     "data": {
      "text/plain": [
       "<Figure size 640x480 with 0 Axes>"
      ]
     },
     "metadata": {},
     "output_type": "display_data"
    },
    {
     "data": {
      "image/png": "[encoded data removed]",
      "text/plain": [
       "<Figure size 640x480 with 1 Axes>"
      ]
     },
     "metadata": {},
     "output_type": "display_data"
    },
    {
     "data": {
      "image/png": "[encoded data removed]",
      "text/plain": [
       "<Figure size 640x480 with 1 Axes>"
      ]
     },
     "metadata": {},
     "output_type": "display_data"
    }
   ],
   "source": [
    "plt.figure()\n",
    "# plt.plot(df_year_load['Date'].tolist(), df_year_load['load'].tolist())\n",
    "results_2018 = results.loc[results['Year'] == 2018]\n",
    "results_monthly = results_2018.groupby([ \"Month\"]).mean()\n",
    "results_daily = results_2018.groupby([\"Month\", \"Day\"]).sum()\n",
    "results_monthly.plot( y='Curtailed Supply', kind=\"bar\")\n",
    "results_daily.plot(y='Curtailed Supply')\n",
    "plt.xlabel('Time (Month/Day)')\n",
    "plt.ylabel('Curtailed (MWh)')\n",
    "plt.title('2018 curtailed supply in California')"
   ]
  }
 ],
 "metadata": {
  "kernelspec": {
   "display_name": "Python 3",
   "language": "python",
   "name": "python3"
  },
  "language_info": {
   "codemirror_mode": {
    "name": "ipython",
    "version": 3
   },
   "file_extension": ".py",
   "mimetype": "text/x-python",
   "name": "python",
   "nbconvert_exporter": "python",
   "pygments_lexer": "ipython3",
   "version": "3.9.18"
  },
  "orig_nbformat": 4
 },
 "nbformat": 4,
 "nbformat_minor": 2
}
